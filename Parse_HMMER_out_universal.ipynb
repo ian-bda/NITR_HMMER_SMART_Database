{
 "cells": [
  {
   "cell_type": "code",
   "execution_count": 1,
   "id": "56eb3bf3",
   "metadata": {},
   "outputs": [],
   "source": [
    "# This code is meant to create an fa file containing the names and locations of IG domain hits from smart_hmmer_parser.pl\n",
    "# import pandas and SeqIO\n",
    "import pandas as pd\n",
    "from Bio import SeqIO"
   ]
  },
  {
   "cell_type": "code",
   "execution_count": 4,
   "id": "82fe6203",
   "metadata": {},
   "outputs": [],
   "source": [
    "# Import csv file from smart_hmmer_parser.pl\n",
    "df = pd.read_csv('path/to/smart_parsed_hmmer_out.csv')"
   ]
  },
  {
   "cell_type": "code",
   "execution_count": 8,
   "id": "02a76a78",
   "metadata": {},
   "outputs": [],
   "source": [
    "# Set column names\n",
    "sequences = df['Ig-nucl']\n",
    "scaf_start = df['scaf_start']\n",
    "scaf_end = df['scaf_end']\n",
    "scaffold = df['scaffold']"
   ]
  },
  {
   "cell_type": "code",
   "execution_count": 9,
   "id": "5b61812f",
   "metadata": {},
   "outputs": [],
   "source": [
    "# Convert to fa file\n",
    "fasta_file = \"ig_to_blast.fa\"\n",
    "with open(fasta_file, \"w\") as f:\n",
    "    for index, sequence in enumerate(sequences):\n",
    "        # Construct FASTA header\n",
    "        header = f\">{scaffold[index]}_{scaf_start[index]}-{scaf_end[index]}\\n\"\n",
    "        # Write header and sequence to file\n",
    "        f.write(header)\n",
    "        f.write(sequence + \"\\n\")"
   ]
  },
  {
   "cell_type": "code",
   "execution_count": null,
   "id": "e74b472c",
   "metadata": {},
   "outputs": [],
   "source": []
  }
 ],
 "metadata": {
  "kernelspec": {
   "display_name": "Python 3",
   "language": "python",
   "name": "python3"
  },
  "language_info": {
   "codemirror_mode": {
    "name": "ipython",
    "version": 3
   },
   "file_extension": ".py",
   "mimetype": "text/x-python",
   "name": "python",
   "nbconvert_exporter": "python",
   "pygments_lexer": "ipython3",
   "version": "3.8.8"
  }
 },
 "nbformat": 4,
 "nbformat_minor": 5
}
